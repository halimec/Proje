{
 "cells": [
  {
   "cell_type": "code",
   "execution_count": 1,
   "id": "54a13dba",
   "metadata": {},
   "outputs": [],
   "source": [
    "# loading dependencies\n",
    "import pandas as pd\n",
    "import numpy as np\n",
    "from sklearn import linear_model\n",
    "from sklearn.model_selection import train_test_split\n",
    "from sklearn.metrics import accuracy_score\n",
    "import numpy"
   ]
  },
  {
   "cell_type": "code",
   "execution_count": 2,
   "id": "0457340f",
   "metadata": {},
   "outputs": [],
   "source": [
    "data = pd.read_csv(\"C:/Users/halime/Desktop/label/KARATAY/KARATAYSON.csv\",sep=\",\",thousands=\".\")"
   ]
  },
  {
   "cell_type": "code",
   "execution_count": 3,
   "id": "6b1ac1af",
   "metadata": {},
   "outputs": [],
   "source": [
    "data = data.replace(',','', regex=True)"
   ]
  },
  {
   "cell_type": "code",
   "execution_count": 4,
   "id": "0ce5fffc",
   "metadata": {},
   "outputs": [],
   "source": [
    "del data['Unnamed: 0']"
   ]
  },
  {
   "cell_type": "code",
   "execution_count": 5,
   "id": "1288d13b",
   "metadata": {},
   "outputs": [],
   "source": [
    "data[\"fiyat\"] = pd.to_numeric(data[\"fiyat\"])"
   ]
  },
  {
   "cell_type": "code",
   "execution_count": 6,
   "id": "54dc7699",
   "metadata": {},
   "outputs": [],
   "source": [
    "Y=data[['fiyat']]"
   ]
  },
  {
   "cell_type": "code",
   "execution_count": 7,
   "id": "2fb526aa",
   "metadata": {},
   "outputs": [],
   "source": [
    "Y = pd.DataFrame(Y, columns = ['fiyat'])"
   ]
  },
  {
   "cell_type": "code",
   "execution_count": 8,
   "id": "747f147a",
   "metadata": {},
   "outputs": [],
   "source": [
    "X= data[['il', 'ilce',  'OdaSayısı',\n",
    "       'BinanınYASI', 'BulunduguKAT', 'BinadakiKatSAYISI', 'IsıtmaTıpı',\n",
    "       'BanyoSAYISI'\n",
    "       ]]"
   ]
  },
  {
   "cell_type": "code",
   "execution_count": 9,
   "id": "18b79c6b",
   "metadata": {},
   "outputs": [],
   "source": [
    "X = pd.DataFrame(X, columns = ['il', 'ilce',  'OdaSayısı',\n",
    "       'BinanınYASI', 'BulunduguKAT', 'BinadakiKatSAYISI', 'IsıtmaTıpı',\n",
    "       'BanyoSAYISI'\n",
    "       ])"
   ]
  },
  {
   "cell_type": "code",
   "execution_count": 10,
   "id": "1df00d49",
   "metadata": {},
   "outputs": [
    {
     "name": "stdout",
     "output_type": "stream",
     "text": [
      "[[325000]\n",
      " [286000]\n",
      " [469000]\n",
      " ...\n",
      " [290000]\n",
      " [325000]\n",
      " [415000]]\n"
     ]
    }
   ],
   "source": [
    "X = X.to_numpy()\n",
    "Y = Y.to_numpy()\n",
    "\n",
    "print(Y)\n"
   ]
  },
  {
   "cell_type": "code",
   "execution_count": 11,
   "id": "89889cc9",
   "metadata": {},
   "outputs": [],
   "source": [
    "from sklearn.linear_model import LinearRegression"
   ]
  },
  {
   "cell_type": "code",
   "execution_count": 12,
   "id": "7ea55207",
   "metadata": {},
   "outputs": [],
   "source": [
    "reg = LinearRegression().fit(X, Y)"
   ]
  },
  {
   "cell_type": "code",
   "execution_count": 13,
   "id": "212dd075",
   "metadata": {},
   "outputs": [
    {
     "data": {
      "text/plain": [
       "0.6407005716012985"
      ]
     },
     "execution_count": 13,
     "metadata": {},
     "output_type": "execute_result"
    }
   ],
   "source": [
    "reg.score(X, Y)"
   ]
  },
  {
   "cell_type": "code",
   "execution_count": 14,
   "id": "30019fc8",
   "metadata": {},
   "outputs": [
    {
     "data": {
      "text/plain": [
       "array([[328371.05870326]])"
      ]
     },
     "execution_count": 14,
     "metadata": {},
     "output_type": "execute_result"
    }
   ],
   "source": [
    "reg.predict(np.array([[0,0,1,0,8,4,1,0]]))"
   ]
  },
  {
   "cell_type": "code",
   "execution_count": 15,
   "id": "e41b7a2d",
   "metadata": {},
   "outputs": [],
   "source": [
    "import pickle"
   ]
  },
  {
   "cell_type": "code",
   "execution_count": null,
   "id": "3cf2f34a",
   "metadata": {},
   "outputs": [],
   "source": [
    "with open('nisan2linearpkl.pkl', 'wb') as files:\n",
    "    pickle.dump(reg, files)"
   ]
  }
 ],
 "metadata": {
  "kernelspec": {
   "display_name": "Python 3",
   "language": "python",
   "name": "python3"
  },
  "language_info": {
   "codemirror_mode": {
    "name": "ipython",
    "version": 3
   },
   "file_extension": ".py",
   "mimetype": "text/x-python",
   "name": "python",
   "nbconvert_exporter": "python",
   "pygments_lexer": "ipython3",
   "version": "3.8.5"
  }
 },
 "nbformat": 4,
 "nbformat_minor": 5
}
