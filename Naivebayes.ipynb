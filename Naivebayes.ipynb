{
 "cells": [
  {
   "cell_type": "code",
   "execution_count": 1,
   "id": "9cbecf85",
   "metadata": {},
   "outputs": [],
   "source": [
    "import pandas as pd\n",
    "import numpy as np\n",
    "from sklearn import linear_model\n",
    "from sklearn.model_selection import train_test_split\n",
    "from sklearn.metrics import accuracy_score\n",
    "import numpy"
   ]
  },
  {
   "cell_type": "code",
   "execution_count": 2,
   "id": "ea1f1162",
   "metadata": {},
   "outputs": [],
   "source": [
    "data = pd.read_csv(\"C:/Users/halime/Desktop/label/KARATAY/KARATAYSON.csv\",sep=\",\",thousands=\".\")"
   ]
  },
  {
   "cell_type": "code",
   "execution_count": 3,
   "id": "d965cc1b",
   "metadata": {},
   "outputs": [
    {
     "data": {
      "text/plain": [
       "Index(['Unnamed: 0', 'fiyat', 'il', 'ilce', 'mahalle', 'Net', 'OdaSayısı',\n",
       "       'BinanınYASI', 'BulunduguKAT', 'BinadakiKatSAYISI', 'IsıtmaTıpı',\n",
       "       'BanyoSAYISI'],\n",
       "      dtype='object')"
      ]
     },
     "execution_count": 3,
     "metadata": {},
     "output_type": "execute_result"
    }
   ],
   "source": [
    "data.columns"
   ]
  },
  {
   "cell_type": "code",
   "execution_count": 4,
   "id": "5ba2171e",
   "metadata": {},
   "outputs": [
    {
     "data": {
      "text/plain": [
       "Unnamed: 0            int64\n",
       "fiyat                object\n",
       "il                    int64\n",
       "ilce                  int64\n",
       "mahalle               int64\n",
       "Net                   int64\n",
       "OdaSayısı             int64\n",
       "BinanınYASI           int64\n",
       "BulunduguKAT          int64\n",
       "BinadakiKatSAYISI     int64\n",
       "IsıtmaTıpı            int64\n",
       "BanyoSAYISI           int64\n",
       "dtype: object"
      ]
     },
     "execution_count": 4,
     "metadata": {},
     "output_type": "execute_result"
    }
   ],
   "source": [
    "data.dtypes"
   ]
  },
  {
   "cell_type": "code",
   "execution_count": 5,
   "id": "54916f2e",
   "metadata": {},
   "outputs": [],
   "source": [
    "data = data.replace(',','', regex=True)"
   ]
  },
  {
   "cell_type": "code",
   "execution_count": 6,
   "id": "725668f1",
   "metadata": {},
   "outputs": [],
   "source": [
    "data[\"fiyat\"] = pd.to_numeric(data[\"fiyat\"])"
   ]
  },
  {
   "cell_type": "code",
   "execution_count": 7,
   "id": "a9a011cc",
   "metadata": {},
   "outputs": [
    {
     "data": {
      "text/plain": [
       "Unnamed: 0           int64\n",
       "fiyat                int64\n",
       "il                   int64\n",
       "ilce                 int64\n",
       "mahalle              int64\n",
       "Net                  int64\n",
       "OdaSayısı            int64\n",
       "BinanınYASI          int64\n",
       "BulunduguKAT         int64\n",
       "BinadakiKatSAYISI    int64\n",
       "IsıtmaTıpı           int64\n",
       "BanyoSAYISI          int64\n",
       "dtype: object"
      ]
     },
     "execution_count": 7,
     "metadata": {},
     "output_type": "execute_result"
    }
   ],
   "source": [
    "data.dtypes"
   ]
  },
  {
   "cell_type": "code",
   "execution_count": 8,
   "id": "fff43332",
   "metadata": {},
   "outputs": [],
   "source": [
    "Y=data[['fiyat']]"
   ]
  },
  {
   "cell_type": "code",
   "execution_count": 9,
   "id": "0f8a27a0",
   "metadata": {},
   "outputs": [],
   "source": [
    "Y = pd.DataFrame(Y, columns = ['fiyat'])"
   ]
  },
  {
   "cell_type": "code",
   "execution_count": 10,
   "id": "da854f86",
   "metadata": {},
   "outputs": [],
   "source": [
    "X= data[['il', 'ilce',  'OdaSayısı',\n",
    "       'BinanınYASI', 'BulunduguKAT', 'BinadakiKatSAYISI', 'IsıtmaTıpı',\n",
    "       'BanyoSAYISI'\n",
    "       ]]"
   ]
  },
  {
   "cell_type": "code",
   "execution_count": 11,
   "id": "1ef199d4",
   "metadata": {},
   "outputs": [],
   "source": [
    "X = pd.DataFrame(X, columns = ['il', 'ilce',  'OdaSayısı',\n",
    "       'BinanınYASI', 'BulunduguKAT', 'BinadakiKatSAYISI', 'IsıtmaTıpı',\n",
    "       'BanyoSAYISI'\n",
    "       ])"
   ]
  },
  {
   "cell_type": "code",
   "execution_count": 12,
   "id": "7eac82ff",
   "metadata": {},
   "outputs": [
    {
     "name": "stdout",
     "output_type": "stream",
     "text": [
      "[[325000]\n",
      " [286000]\n",
      " [469000]\n",
      " ...\n",
      " [290000]\n",
      " [325000]\n",
      " [415000]]\n"
     ]
    }
   ],
   "source": [
    "X = X.to_numpy()\n",
    "Y = Y.to_numpy()\n",
    "\n",
    "print(Y)\n"
   ]
  },
  {
   "cell_type": "code",
   "execution_count": 13,
   "id": "3bb37458",
   "metadata": {},
   "outputs": [
    {
     "data": {
      "text/plain": [
       "Unnamed: 0           int64\n",
       "fiyat                int64\n",
       "il                   int64\n",
       "ilce                 int64\n",
       "mahalle              int64\n",
       "Net                  int64\n",
       "OdaSayısı            int64\n",
       "BinanınYASI          int64\n",
       "BulunduguKAT         int64\n",
       "BinadakiKatSAYISI    int64\n",
       "IsıtmaTıpı           int64\n",
       "BanyoSAYISI          int64\n",
       "dtype: object"
      ]
     },
     "execution_count": 13,
     "metadata": {},
     "output_type": "execute_result"
    }
   ],
   "source": [
    "data.dtypes"
   ]
  },
  {
   "cell_type": "code",
   "execution_count": 14,
   "id": "10ce5d0c",
   "metadata": {},
   "outputs": [],
   "source": [
    "del data['Unnamed: 0']"
   ]
  },
  {
   "cell_type": "code",
   "execution_count": 15,
   "id": "4d672e20",
   "metadata": {},
   "outputs": [
    {
     "data": {
      "text/plain": [
       "fiyat                int64\n",
       "il                   int64\n",
       "ilce                 int64\n",
       "mahalle              int64\n",
       "Net                  int64\n",
       "OdaSayısı            int64\n",
       "BinanınYASI          int64\n",
       "BulunduguKAT         int64\n",
       "BinadakiKatSAYISI    int64\n",
       "IsıtmaTıpı           int64\n",
       "BanyoSAYISI          int64\n",
       "dtype: object"
      ]
     },
     "execution_count": 15,
     "metadata": {},
     "output_type": "execute_result"
    }
   ],
   "source": [
    "data.dtypes"
   ]
  },
  {
   "cell_type": "code",
   "execution_count": 16,
   "id": "a69af454",
   "metadata": {},
   "outputs": [],
   "source": [
    "from sklearn.naive_bayes import GaussianNB"
   ]
  },
  {
   "cell_type": "code",
   "execution_count": 17,
   "id": "bece0e91",
   "metadata": {},
   "outputs": [],
   "source": [
    "clf1 = GaussianNB()"
   ]
  },
  {
   "cell_type": "code",
   "execution_count": 18,
   "id": "91839cd9",
   "metadata": {},
   "outputs": [
    {
     "name": "stderr",
     "output_type": "stream",
     "text": [
      "C:\\Users\\halime\\anaconda3\\envs\\deeplearning\\lib\\site-packages\\sklearn\\utils\\validation.py:993: DataConversionWarning: A column-vector y was passed when a 1d array was expected. Please change the shape of y to (n_samples, ), for example using ravel().\n",
      "  y = column_or_1d(y, warn=True)\n"
     ]
    },
    {
     "data": {
      "text/plain": [
       "GaussianNB()"
      ]
     },
     "execution_count": 18,
     "metadata": {},
     "output_type": "execute_result"
    }
   ],
   "source": [
    "clf1.fit(X, Y)"
   ]
  },
  {
   "cell_type": "code",
   "execution_count": 19,
   "id": "421e2f8f",
   "metadata": {},
   "outputs": [
    {
     "name": "stdout",
     "output_type": "stream",
     "text": [
      "[325000]\n"
     ]
    }
   ],
   "source": [
    "print(clf1.predict([[0,0,1,0,8,4,1,0]]))"
   ]
  },
  {
   "cell_type": "code",
   "execution_count": 21,
   "id": "4a414a4d",
   "metadata": {},
   "outputs": [],
   "source": [
    "X_train, X_test, y_train, y_test = train_test_split(X, Y, test_size=0.3,random_state=109) # 70% training and 30% test"
   ]
  },
  {
   "cell_type": "code",
   "execution_count": 22,
   "id": "e42bf75d",
   "metadata": {},
   "outputs": [
    {
     "name": "stderr",
     "output_type": "stream",
     "text": [
      "C:\\Users\\halime\\anaconda3\\envs\\deeplearning\\lib\\site-packages\\sklearn\\utils\\validation.py:993: DataConversionWarning: A column-vector y was passed when a 1d array was expected. Please change the shape of y to (n_samples, ), for example using ravel().\n",
      "  y = column_or_1d(y, warn=True)\n"
     ]
    },
    {
     "data": {
      "text/plain": [
       "GaussianNB()"
      ]
     },
     "execution_count": 22,
     "metadata": {},
     "output_type": "execute_result"
    }
   ],
   "source": [
    "clf1.fit(X_train, y_train)"
   ]
  },
  {
   "cell_type": "code",
   "execution_count": 23,
   "id": "b8cbb017",
   "metadata": {},
   "outputs": [],
   "source": [
    "y_pred = clf1.predict(X_test)"
   ]
  },
  {
   "cell_type": "code",
   "execution_count": 24,
   "id": "a09bbb88",
   "metadata": {},
   "outputs": [],
   "source": [
    "from sklearn import metrics"
   ]
  },
  {
   "cell_type": "code",
   "execution_count": 25,
   "id": "89636f59",
   "metadata": {},
   "outputs": [
    {
     "name": "stdout",
     "output_type": "stream",
     "text": [
      "Accuracy: 0.8845315904139434\n"
     ]
    }
   ],
   "source": [
    "print(\"Accuracy:\",metrics.accuracy_score(y_test, y_pred))"
   ]
  },
  {
   "cell_type": "code",
   "execution_count": null,
   "id": "f1bc3a56",
   "metadata": {},
   "outputs": [],
   "source": [
    "import pickle"
   ]
  },
  {
   "cell_type": "code",
   "execution_count": null,
   "id": "4ebf34e4",
   "metadata": {},
   "outputs": [],
   "source": [
    "with open('nisan2gaussianpkl.pkl', 'wb') as files:\n",
    "    pickle.dump(clf1, files)"
   ]
  },
  {
   "cell_type": "code",
   "execution_count": null,
   "id": "a6dffed6",
   "metadata": {},
   "outputs": [],
   "source": []
  }
 ],
 "metadata": {
  "kernelspec": {
   "display_name": "Python 3",
   "language": "python",
   "name": "python3"
  },
  "language_info": {
   "codemirror_mode": {
    "name": "ipython",
    "version": 3
   },
   "file_extension": ".py",
   "mimetype": "text/x-python",
   "name": "python",
   "nbconvert_exporter": "python",
   "pygments_lexer": "ipython3",
   "version": "3.8.5"
  }
 },
 "nbformat": 4,
 "nbformat_minor": 5
}
