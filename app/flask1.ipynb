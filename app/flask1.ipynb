{
 "cells": [
  {
   "cell_type": "code",
   "execution_count": 1,
   "id": "5cb67c55",
   "metadata": {},
   "outputs": [],
   "source": [
    "from flask import Flask,redirect,url_for,render_template,request\n",
    "from flask import request\n",
    "import pickle\n",
    "from flask import render_template, render_template_string, request"
   ]
  },
  {
   "cell_type": "code",
   "execution_count": 2,
   "id": "6faffc68",
   "metadata": {},
   "outputs": [],
   "source": [
    "app=Flask(__name__)"
   ]
  },
  {
   "cell_type": "code",
   "execution_count": 3,
   "id": "4abfc59f",
   "metadata": {},
   "outputs": [],
   "source": [
    "@app.route(\"/\")\n",
    "def main():\n",
    "    return render_template(\"index.html\")\n",
    "    \n",
    "   "
   ]
  },
  {
   "cell_type": "code",
   "execution_count": 4,
   "id": "4b0b5ffd",
   "metadata": {},
   "outputs": [],
   "source": [
    "@app.route(\"/page2\")\n",
    "def page2():\n",
    "    return render_template(\"page2.html\")\n",
    "    \n"
   ]
  },
  {
   "cell_type": "code",
   "execution_count": 5,
   "id": "048a2ff7",
   "metadata": {},
   "outputs": [],
   "source": [
    "@app.route(\"/page3\",methods=[\"POST\",\"GET\"])\n",
    "def page3():\n",
    "    il = request.form[\"il\"]\n",
    "    ilce = request.form[\"ilce\"]\n",
    "    #mah = request.form[\"mah\"]\n",
    "    oda = request.form[\"OdaSayısı\"]\n",
    "    binayasi = request.form[\"BinanınYASI\"]\n",
    "    bulundugukat = request.form[\"BulunduguKAT\"]\n",
    "    binadakikat = request.form[\"BinadakiKatSAYISI\"]\n",
    "    ısıtma = request.form[\"IsıtmaTipi\"]\n",
    "    banyo = request.form[\"BanyoSAYISI\"]\n",
    "    \n",
    "    \n",
    "    with open('nisan2gaussianpkl.pkl' , 'rb') as f:\n",
    "        lr = pickle.load(f)\n",
    "    with open('nisan2svmmodelpkl.pkl' , 'rb') as f:\n",
    "        lr1 = pickle.load(f)\n",
    "    with open('nisan2linearpkl.pkl' , 'rb') as f:\n",
    "        lr2 = pickle.load(f)\n",
    "    \n",
    "    il=int(il)\n",
    "    ilce=int(ilce)\n",
    "    #mah=int(mah)\n",
    "    oda=int(oda)\n",
    "    binayasi=int(binayasi)\n",
    "    bulundugukat=int(bulundugukat)\n",
    "    binadakikat=int(binadakikat)\n",
    "    ısıtma=int(ısıtma)\n",
    "    banyo=int(banyo)\n",
    "    \n",
    "    \n",
    "    List = [il, ilce, oda,binayasi,bulundugukat,binadakikat,ısıtma,banyo]\n",
    "    \n",
    "    \n",
    "    tahmin=lr.predict([List])\n",
    "    tahmin1=lr1.predict([List])\n",
    "    tahmin2=lr2.predict([List])\n",
    "    \n",
    "    \n",
    "    return redirect(url_for(\"user\",tahmin=tahmin,tahmin1=tahmin1,tahmin2=tahmin2))\n",
    "    \n",
    "    \n",
    "    \n",
    "    "
   ]
  },
  {
   "cell_type": "code",
   "execution_count": 6,
   "id": "2f59cb22",
   "metadata": {},
   "outputs": [],
   "source": [
    "@app.route(\"/<tahmin>/<tahmin1>/<tahmin2>\")\n",
    "def user(tahmin,tahmin1,tahmin2):\n",
    "    if request.method == \"GET\":\n",
    "        return render_template (\"page2.html\",tahmin=tahmin,tahmin1=tahmin1,tahmin2=tahmin2)\n",
    "    if request.method == \"POST\":\n",
    "        return redirect(request.referrer)\n",
    "    "
   ]
  },
  {
   "cell_type": "code",
   "execution_count": 7,
   "id": "a8e40182",
   "metadata": {},
   "outputs": [
    {
     "name": "stdout",
     "output_type": "stream",
     "text": [
      " * Serving Flask app \"__main__\" (lazy loading)\n",
      " * Environment: production\n",
      "   WARNING: This is a development server. Do not use it in a production deployment.\n",
      "   Use a production WSGI server instead.\n",
      " * Debug mode: off\n"
     ]
    },
    {
     "name": "stderr",
     "output_type": "stream",
     "text": [
      " * Running on http://127.0.0.1:5000/ (Press CTRL+C to quit)\n",
      "127.0.0.1 - - [21/Apr/2022 03:35:52] \"\u001b[37mGET / HTTP/1.1\u001b[0m\" 200 -\n",
      "127.0.0.1 - - [21/Apr/2022 03:35:56] \"\u001b[37mGET /page2 HTTP/1.1\u001b[0m\" 200 -\n"
     ]
    }
   ],
   "source": [
    "if __name__== \"__main__\":\n",
    "    app.run()"
   ]
  },
  {
   "cell_type": "code",
   "execution_count": null,
   "id": "833b47b8",
   "metadata": {},
   "outputs": [],
   "source": []
  }
 ],
 "metadata": {
  "kernelspec": {
   "display_name": "Python 3",
   "language": "python",
   "name": "python3"
  },
  "language_info": {
   "codemirror_mode": {
    "name": "ipython",
    "version": 3
   },
   "file_extension": ".py",
   "mimetype": "text/x-python",
   "name": "python",
   "nbconvert_exporter": "python",
   "pygments_lexer": "ipython3",
   "version": "3.8.5"
  }
 },
 "nbformat": 4,
 "nbformat_minor": 5
}
